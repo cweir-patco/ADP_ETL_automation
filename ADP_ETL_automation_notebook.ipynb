{
  "metadata": {
    "language_info": {
      "codemirror_mode": {
        "name": "python",
        "version": 3
      },
      "file_extension": ".py",
      "mimetype": "text/x-python",
      "name": "python",
      "nbconvert_exporter": "python",
      "pygments_lexer": "ipython3",
      "version": "3.8"
    },
    "kernelspec": {
      "name": "python",
      "display_name": "Python (Pyodide)",
      "language": "python"
    }
  },
  "nbformat_minor": 4,
  "nbformat": 4,
  "cells": [
    {
      "cell_type": "markdown",
      "source": "# 1) Extract CAD data to GIS",
      "metadata": {
        "tags": [],
        "jp-MarkdownHeadingCollapsed": true
      }
    },
    {
      "cell_type": "markdown",
      "source": "### a) Create a new FGDB and set it as the workspace",
      "metadata": {
        "tags": [],
        "jp-MarkdownHeadingCollapsed": true
      }
    },
    {
      "cell_type": "code",
      "source": "##~~~~~~~~~~~ Create a scratch GDB to house data ~~~~~~~~~~~##\nout_gdb_name = \"CAD2GIS.gdb\"\n\narcpy.management.CreateFileGDB(out_folder_path, out_gdb_name)\n\narcpy.AddMessage(\"Scratch GDB created...\")\n\n# set scratch GDB\nscratch_gdb = f\"{out_folder_path}/{out_gdb_name}\"\n\n# set workspace\narcpy.env.workspace = scratch_gdb\n\narcpy.AddMessage(\"Workspace set to scratch GDB...\")",
      "metadata": {},
      "execution_count": null,
      "outputs": []
    },
    {
      "cell_type": "markdown",
      "source": "### b) Extract CAD data",
      "metadata": {
        "tags": [],
        "jp-MarkdownHeadingCollapsed": true
      }
    },
    {
      "cell_type": "code",
      "source": "##~~~~~~~~~~~ CAD to GIS (feature dataset creation) ~~~~~~~~~~~##\n\n# set variables for CADtoGDB tool\nout_gdb_path = scratch_gdb\nout_dataset_name = \"CAD2GIS\"\nreference_scale = \"1000\"\n\narcpy.conversion.CADToGeodatabase(input_cad_dataset, out_gdb_path,\n                                  out_dataset_name, reference_scale,\n                                  spatial_ref)\n\narcpy.AddMessage(\"CAD to GIS complete...\")",
      "metadata": {},
      "execution_count": null,
      "outputs": []
    },
    {
      "cell_type": "markdown",
      "source": "### c) Standardize field values",
      "metadata": {
        "tags": [],
        "jp-MarkdownHeadingCollapsed": true
      }
    },
    {
      "cell_type": "code",
      "source": "##~~~~~~~~~~~ recalculate \"BUILD_STATUS\", \"INSTALLATION_YEAR\", \"TDS_WBS_CODE\", \"MARKET_CODE\" field values in \"Point\" FC ~~~~~~~~~~~##\npoint_fc = \"Point\"\nfield_name = \"BUILD_STATUS\"\n\n# BUILD STATUS\n# Open an update cursor on the feature class\nwith arcpy.da.UpdateCursor(point_fc, field_name) as cursor:\n    for row in cursor:\n        # Calculate the value for the field\n        value = \"As Staked\"\n        # Update the field value for all rows\n        row[0] = value\n        cursor.updateRow(row)\n\n# INSTALLATION YEAR\nfield_name = \"INSTALLATION_YEAR\"\n\n# Open an update cursor on the feature class\nwith arcpy.da.UpdateCursor(point_fc, field_name) as cursor:\n    for row in cursor:\n        # Calculate the value for the field\n        value = \"2023\"\n        # Update the field value for all rows\n        row[0] = value\n        cursor.updateRow(row)\n\n# TBS_WBS_CODE\nfield_name = \"TDS_WBS_CODE\"\n\n# Open an update cursor on the feature class\nwith arcpy.da.UpdateCursor(point_fc, field_name) as cursor:\n    for row in cursor:\n        # Calculate the value for the field\n        value = proj_wbs_code\n        # Update the field value for all rows\n        row[0] = value\n        cursor.updateRow(row)\n\n# MARKET CODE\nfield_name = \"MARKET_CODE\"\n\n# Open an update cursor on the feature class\nwith arcpy.da.UpdateCursor(point_fc, field_name) as cursor:\n    for row in cursor:\n        # Calculate the value for the field\n        value = market_code\n        # Update the field value for all rows\n        row[0] = value\n        cursor.updateRow(row)\n\narcpy.AddMessage(\"Point fields calculated...\")",
      "metadata": {},
      "execution_count": null,
      "outputs": []
    },
    {
      "cell_type": "markdown",
      "source": "### d) Polyline specific field standardization",
      "metadata": {
        "tags": [],
        "jp-MarkdownHeadingCollapsed": true
      }
    },
    {
      "cell_type": "markdown",
      "source": "##### For features that meet the where clause (SQL query), the code first copies and pastes the values in the \"Layer\" field to the \"COMMENTS\" field, then updates the \"Layer\" field value to == \"Fiber Cable\"",
      "metadata": {}
    },
    {
      "cell_type": "code",
      "source": "# Move \"Layer\" field values to \"COMMENT\" field and change \"Layer\" value to == \"Fiber Cable\"... for rows that meet the where_clause variable!\npolyline_fc = \"Polyline\"\nlayer_field = \"Layer\"\ncomments_field = \"COMMENTS\"\nwhere_clause = \"Entity = 'LWPolyline' And Layer LIKE '%Count%'\"\n\nwith arcpy.da.UpdateCursor(polyline_fc, [layer_field, comments_field], where_clause) as cursor:\n    for row in cursor:\n        cursor.updateRow([\"Fiber Cable\", row[0]])\n\narcpy.AddMessage('\"Layer\" and \"COMMENT\" field values updated...')",
      "metadata": {},
      "execution_count": null,
      "outputs": []
    },
    {
      "cell_type": "markdown",
      "source": "### f) Add FCs to the TOC",
      "metadata": {
        "tags": [],
        "jp-MarkdownHeadingCollapsed": true
      }
    },
    {
      "cell_type": "code",
      "source": "# add \"Polygon\" FC to the bottom of TOC\npolygon_path = f\"{scratch_gdb}/{out_dataset_name}/{polygon_fc}\"\nm.addDataFromPath(polygon_path)\n\n# add \"Polyline\" FC to the TOC\npolyline_path = f\"{scratch_gdb}/{out_dataset_name}/{polyline_fc}\"\nm.addDataFromPath(polyline_path)\n\n# add \"Point\" FC to the top of TOC\npoint_path = f\"{scratch_gdb}/{out_dataset_name}/{point_fc}\"\nm.addDataFromPath(point_path)\n\narcpy.AddMessage('\"Point\", \"Polyline\", and \"Polygon\" FCs added to TOC...')",
      "metadata": {},
      "execution_count": null,
      "outputs": []
    },
    {
      "cell_type": "markdown",
      "source": "# 2) Translate features to TDS schema",
      "metadata": {
        "tags": [],
        "jp-MarkdownHeadingCollapsed": true
      }
    },
    {
      "cell_type": "markdown",
      "source": "### a) set workspace",
      "metadata": {
        "tags": [],
        "jp-MarkdownHeadingCollapsed": true
      }
    },
    {
      "cell_type": "markdown",
      "source": "##### You could hardcode these variables if you wanted... but since it's a script tool \"arcpy.GetParameterAsText()\" is used so that the user can specify the desired GDB and spatial reference",
      "metadata": {}
    },
    {
      "cell_type": "code",
      "source": "# set project specific variables\nscratch_gdb = arcpy.GetParameterAsText (0)\nspatial_ref = arcpy.GetParameterAsText (1)\n\n# set workspace\narcpy.env.workspace = scratch_gdb",
      "metadata": {},
      "execution_count": null,
      "outputs": []
    },
    {
      "cell_type": "markdown",
      "source": "### b) Polyline management",
      "metadata": {
        "tags": [],
        "jp-MarkdownHeadingCollapsed": true
      }
    },
    {
      "cell_type": "markdown",
      "source": "##### The goal here is to get data from the \"Point\" FC into the \"Polyline\" FC... this was the work around that I came up with but there's likely a more efficient way to do this...",
      "metadata": {}
    },
    {
      "cell_type": "markdown",
      "source": "#### - create a copy of the \"Point\" FC",
      "metadata": {
        "jp-MarkdownHeadingCollapsed": true,
        "tags": []
      }
    },
    {
      "cell_type": "code",
      "source": "#~~~~~~~~~~~~~~~~~~~~~~~~~~~~ create copy of \"Point\" FC ~~~~~~~~~~~~~~~~~~~~~~~~~#\ncopy_name = \"InputPointCopy\"\nout_copy = f\"{scratch_gdb}\\{copy_name}\"\n\narcpy.conversion.ExportFeatures(point_fc, copy_name)\n\narcpy.AddMessage(\"'InputPointCopy' FC created...\")",
      "metadata": {},
      "execution_count": null,
      "outputs": []
    },
    {
      "cell_type": "markdown",
      "source": "#### - join the copied Point FC (\"InputPointCopy\") with the \"Polyline\" FC",
      "metadata": {
        "jp-MarkdownHeadingCollapsed": true,
        "tags": []
      }
    },
    {
      "cell_type": "code",
      "source": "#~~~~~~~~~~~~~~~~~~~~~~~~~~~~ join \"InputPointCopy\" FC table with \"Polyline\" FC table ~~~~~~~~~~~~~~~~~~~~~~~~~#\ninLayer = polyline_fc\ninField = \"Handle\"\njoinTable = copy_name\njoinField = \"TARGET_HANDLE\"\njoinType = \"KEEP_ALL\"\nindex_join_fields = \"NO_INDEX_JOIN_FIELDS\"\n\narcpy.management.AddJoin(inLayer,\n                         inField,\n                         joinTable,\n                         joinField,\n                         joinType,\n                         index_join_fields)\n\narcpy.AddMessage(\"Join complete...\")",
      "metadata": {},
      "execution_count": null,
      "outputs": []
    },
    {
      "cell_type": "markdown",
      "source": "#### - create a copy of the joined \"Polyline\" FC so that the fields are editable",
      "metadata": {
        "tags": [],
        "jp-MarkdownHeadingCollapsed": true
      }
    },
    {
      "cell_type": "code",
      "source": "#~~~~~~~~~~~~~~~~~~~~~~~~~~~~ create copy of \"Polyline\" FC so that fields are editable ~~~~~~~~~~~~~~~~~~~~~~~~~#\nline_copy = \"Polyline_join\"\nline_copy_path = f\"{scratch_gdb}\\{line_copy}\"\n\narcpy.management.CopyFeatures(polyline_fc, line_copy)\narcpy.AddMessage(f'\"{line_copy}\" FC created...')",
      "metadata": {},
      "execution_count": null,
      "outputs": []
    },
    {
      "cell_type": "markdown",
      "source": "#### - copy values from fields starting with \"InputPointCopy_\" to fields starting with \"Polyline_\"",
      "metadata": {
        "jp-MarkdownHeadingCollapsed": true,
        "tags": []
      }
    },
    {
      "cell_type": "code",
      "source": "#~~~~~~~~~~~~~~~~~~~~~~~~~~~~ copy values from \"InputPointCopy_\" fields to \"Polyline_\" fields ~~~~~~~~~~~~~~~~~~~~~~~~~#\n\n# create tuble of field names [(\"take values from this field\", \"and put them in this field\")]\nfield_pairs = [\n    (\"InputPointCopy_FIBER_CABLE_TYPE\", \"Polyline_FIBER_CABLE_TYPE\"),\n    (\"InputPointCopy_FIBER_CABLE_NAME\", \"Polyline_FIBER_CABLE_NAME\"),\n    (\"InputPointCopy_ROUTE\", \"Polyline_ROUTE\"),\n    (\"InputPointCopy_PLACEMENT_TYPE\", \"Polyline_PLACEMENT_TYPE\"),\n    (\"InputPointCopy_CABLE_SEQUENTIAL_LENGTH\", \"Polyline_CABLE_SEQUENTIAL_LENGTH\"),\n    (\"InputPointCopy_CABLE_COUNT\", \"Polyline_CABLE_COUNT\"),\n    (\"InputPointCopy_BUFFER_QTY\", \"Polyline_BUFFER_QTY\"),\n    (\"InputPointCopy_FIBER_QTY\", \"Polyline_FIBER_QTY\"),\n    (\"InputPointCopy_APPROVED_IND\", \"Polyline_APPROVED_IND\"),\n    (\"InputPointCopy_CONDUIT_DIAMETER\", \"Polyline_CONDUIT_DIAMETER\"),\n    (\"InputPointCopy_CONDUIT_MATERIAL\", \"Polyline_CONDUIT_MATERIAL\"),\n    (\"InputPointCopy_CONDUIT_SEQUENTIAL_LENGTH\", \"Polyline_CONDUIT_SEQUENTIAL_LENGTH\"),\n    (\"InputPointCopy_CONDUIT_OWNER\", \"Polyline_CONDUIT_OWNER\"),\n    (\"InputPointCopy_INNERDUCT_QTY\", \"Polyline_INNERDUCT_QTY\")\n]\n\n# Update cursor to iterate through features\nwith arcpy.da.UpdateCursor(line_copy, [pair[0] for pair in field_pairs] + [pair[1] for pair in field_pairs]) as cursor:\n    for row in cursor:\n        for i, pair in enumerate(field_pairs):\n            row[i+len(field_pairs)] = row[i]  # Assign value from source field to target field\n        cursor.updateRow(row)  # Update the row with the new values\n\n# Save project\naprx.save()\n\narcpy.AddMessage(\"Field values copied successfully...\")",
      "metadata": {},
      "execution_count": null,
      "outputs": []
    },
    {
      "cell_type": "markdown",
      "source": "#### - remove \"Polyline_\" from beginning of field names",
      "metadata": {
        "tags": [],
        "jp-MarkdownHeadingCollapsed": true
      }
    },
    {
      "cell_type": "code",
      "source": "arcpy.AddMessage('Starting field name edits...')\n\n# Get a list of all field names in the feature class\nfield_list = arcpy.ListFields(line_copy)\ntotal_fields = len(field_list)\n\n# Loop through the fields and update the names\nfor field in field_list:\n    if field.name.startswith(\"Polyline_\"):\n        new_name = field.name.replace(\"Polyline_\", \"\")\n        arcpy.management.AlterField(line_copy, field.name, new_name)\n\naprx.save()\n\narcpy.AddMessage('\"Polyline_\" removed from beginning of field names...')",
      "metadata": {},
      "execution_count": null,
      "outputs": []
    },
    {
      "cell_type": "markdown",
      "source": "#### - delete fields starting with \"InputPointCopy_\"",
      "metadata": {
        "jp-MarkdownHeadingCollapsed": true,
        "tags": []
      }
    },
    {
      "cell_type": "code",
      "source": "#~~~~~~~~~~~~~~~~~~~~~~~~~~~~ delete fields starting with \"InputPointCopy_\" ~~~~~~~~~~~~~~~~~~~~~~~~~#\n\nfields_to_delete = []\nfor fields in field_list:\n    if fields.name.startswith(\"InputPointCopy_\"):\n        fields_to_delete.append(fields.name)\n\nif len(fields_to_delete) > 0:\n    arcpy.management.DeleteField(line_copy, fields_to_delete)\n    arcpy.AddMessage('Fields starting with \"InputPointCopy_\" deleted...')",
      "metadata": {},
      "execution_count": null,
      "outputs": []
    },
    {
      "cell_type": "markdown",
      "source": "#### - remove single spaces, then replace \"\\P\" with a space in \"CABLE_COUNT\" field",
      "metadata": {
        "tags": [],
        "jp-MarkdownHeadingCollapsed": true
      }
    },
    {
      "cell_type": "code",
      "source": "#~~~~~~~~~~~~~~~~~~~~ remove single spaces, then replace \"\\P\" with a space in \"CABLE_COUNT\" field ~~~~~~~~~~~~~~~~~~#\n\nwith arcpy.da.UpdateCursor(line_copy, \"CABLE_COUNT\") as cursor:\n    for row in cursor:\n        if row[0] is not None: # Check if the value in the \"CABLE_COUNT\" field is not null\n            row[0] = row[0].replace(\" \", \"\") # Remove single spaces\n            row[0] = row[0].replace(\"\\\\P\", \" \") # Replace \"\\P\" with a single space\n            cursor.updateRow(row) # Update the row with the modified value\n\narcpy.AddMessage('\"CABLE_COUNT\" field cleaned...')",
      "metadata": {},
      "execution_count": null,
      "outputs": []
    },
    {
      "cell_type": "markdown",
      "source": "#### - remove the join on the \"Polyline\" FC and add \"Polyline_join\" FC to the TOC",
      "metadata": {
        "tags": [],
        "jp-MarkdownHeadingCollapsed": true
      }
    },
    {
      "cell_type": "code",
      "source": "##~~~~~~~~~~~~~~~~~~~~~~~~~~~~ remove the join on \"Polyline\" FC ~~~~~~~~~~~~~~~~~~~~~~~~~##\n\narcpy.management.RemoveJoin(polyline_fc)\narcpy.AddMessage(f'Join removed from \"{polyline_fc}\" FC...')\n\n##~~~~~~~~~~~~~~~~~~~~~~~~~~~~ Add \"Polyline_join\" FC to TOC ~~~~~~~~~~~~~~~~~~~~~~~~~##\n\nlayer_path = arcpy.management.MakeFeatureLayer(line_copy, line_copy) # Create a layer object from the feature class\n\nm.addLayer(layer_path.getOutput(0))\n\narcpy.AddMessage(f'\"{line_copy}\" FC added to TOC...')",
      "metadata": {},
      "execution_count": null,
      "outputs": []
    },
    {
      "cell_type": "markdown",
      "source": "### c) \"Point\" feature translation",
      "metadata": {
        "tags": [],
        "jp-MarkdownHeadingCollapsed": true
      }
    },
    {
      "cell_type": "markdown",
      "source": "#### - select for access points in the \"Point\" FC",
      "metadata": {
        "jp-MarkdownHeadingCollapsed": true,
        "tags": []
      }
    },
    {
      "cell_type": "code",
      "source": "##~~~~~~~~~~~ ACCESS POINTS ~~~~~~~~~~~##\n\nAPs = \"Translated_AccessPoints\"\nAPs_path = f\"{scratch_gdb}\\{APs}\"\n\n# Select access points from \"Point\" FC\narcpy.management.SelectLayerByAttribute(point_fc,\n                                        \"NEW_SELECTION\",\n                                        \"(Layer = 'Peds Proposed' Or Layer = 'Vaults Proposed') And ACCESS_POINT_TYPE IS NOT NULL\")",
      "metadata": {},
      "execution_count": null,
      "outputs": []
    },
    {
      "cell_type": "markdown",
      "source": "#### - if the selection is greater than 0, create an empty FC in the workspace GDB and append the selected points to it",
      "metadata": {
        "tags": [],
        "jp-MarkdownHeadingCollapsed": true
      }
    },
    {
      "cell_type": "code",
      "source": "if int(arcpy.management.GetCount(point_fc).getOutput(0)) > 0:\n    arcpy.AddMessage(\"Access points selected...\")\n\n    # create empty FC for translated access points\n    geometry_type = \"POINT\"\n    template = f\"{schema}AccessPoint\"\n\n    arcpy.management.CreateFeatureclass(scratch_gdb,\n                                        APs,\n                                        geometry_type,\n                                        template,\n                                        has_m,\n                                        has_z,\n                                        spatial_ref)\n\n    arcpy.AddMessage(f\"'{APs}' FC created...\")\n\n    # append selected features to \"Translated_AccessPoints\" FC\n    arcpy.management.Append(point_fc, APs_path, \"NO_TEST\")\n\n    arcpy.AddMessage(f\"Selected access points appended to '{APs}' FC!\")\n\nelse:\n    arcpy.AddMessage(\"No features met the selection criteria for access points...\")",
      "metadata": {},
      "execution_count": null,
      "outputs": []
    },
    {
      "cell_type": "markdown",
      "source": "##### *** all newly created FC's use an empty TDS FC as a template so that it adopts the TDS schema ***",
      "metadata": {}
    },
    {
      "cell_type": "markdown",
      "source": "##### *** this process is then repeated for all other point features (fiber splitters, port connection rows, fiber splice enclosures, and poles) ***",
      "metadata": {}
    },
    {
      "cell_type": "markdown",
      "source": "### d) \"Polyline\" feature translation",
      "metadata": {
        "tags": [],
        "jp-MarkdownHeadingCollapsed": true
      }
    },
    {
      "cell_type": "markdown",
      "source": "#### - select for fiber cables in the \"Polyline\" FC",
      "metadata": {
        "tags": [],
        "jp-MarkdownHeadingCollapsed": true
      }
    },
    {
      "cell_type": "code",
      "source": "##~~~~~~~~~~~ FIBER CABLES ~~~~~~~~~~~##\n\nFCs = \"Translated_FiberCables\"\nFCs_path = f\"{scratch_gdb}\\{FCs}\"\n\n# Select fiber cables from \"Polyline_join\" FC\narcpy.management.SelectLayerByAttribute(line_copy,\n                                        \"NEW_SELECTION\",\n                                        \"Entity = 'LWPolyline' And Layer = 'Fiber Cable' And FIBER_CABLE_TYPE IS NOT NULL\")",
      "metadata": {},
      "execution_count": null,
      "outputs": []
    },
    {
      "cell_type": "markdown",
      "source": "#### - if the selection is greater than 0, create an empty FC in the workspace GDB, append the selected polylines to it, and run the densify GP tool on the new FC",
      "metadata": {
        "tags": [],
        "jp-MarkdownHeadingCollapsed": true
      }
    },
    {
      "cell_type": "code",
      "source": "if int(arcpy.management.GetCount(line_copy).getOutput(0)) > 0:\n    arcpy.AddMessage(\"Fiber cables selected...\")\n\n    #~~~~~~~~~~~~~~~~~~~~~~~~~~~~ create empty FC for translated fiber cables ~~~~~~~~~~~~~~~~~~~~~~~~~#\n    geometry_type = \"POLYLINE\"\n    template = f\"{schema}FiberCable\"\n\n    arcpy.management.CreateFeatureclass(scratch_gdb,\n                                        FCs,\n                                        geometry_type,\n                                        template,\n                                        has_m,\n                                        has_z,\n                                        spatial_ref)\n\n    arcpy.AddMessage(f\"'{FCs}' FC created...\")\n\n    # append selected features to \"Translated_FiberCables\" FC\n    arcpy.management.Append(line_copy, FCs_path, \"NO_TEST\")\n\n    arcpy.AddMessage(f\"Selected fiber cables appended to '{FCs}' FC!\")\n\n    # densify\n    arcpy.edit.Densify(FCs_path, \"DISTANCE\", 10)\n\n    arcpy.AddMessage(f\"'{FCs}' densified...\")\n\nelse:\n    arcpy.AddMessage(\"No features met the selection criteria for fiber cables...\")",
      "metadata": {},
      "execution_count": null,
      "outputs": []
    },
    {
      "cell_type": "markdown",
      "source": "##### *** all newly created FC's use an empty TDS FC as a template so that it adopts the TDS schema ***",
      "metadata": {}
    },
    {
      "cell_type": "markdown",
      "source": "##### *** this process is then repeated for all other polyline features (fiber drop cables and conduits) ***",
      "metadata": {}
    },
    {
      "cell_type": "markdown",
      "source": "### e) \"Polygon\" feature translation",
      "metadata": {
        "tags": [],
        "jp-MarkdownHeadingCollapsed": true
      }
    },
    {
      "cell_type": "markdown",
      "source": "#### - select for a serving area in the \"Polygon\" FC",
      "metadata": {
        "jp-MarkdownHeadingCollapsed": true,
        "tags": []
      }
    },
    {
      "cell_type": "code",
      "source": "##~~~~~~~~~~~ SERVING AREA ~~~~~~~~~~~##\n\nSAs = \"Translated_ServingArea\"\nSAs_path = f\"{scratch_gdb}\\{SAs}\"\n\n# Select serving area from \"Polygon\" FC\narcpy.management.SelectLayerByAttribute(polygon_fc,\n                                        \"NEW_SELECTION\",\n                                        r\"(Layer LIKE '%DFN%' And Entity = 'LWPolyline') Or (Layer LIKE '%FDH%' And Entity = 'LWPolyline')\")",
      "metadata": {},
      "execution_count": null,
      "outputs": []
    },
    {
      "cell_type": "markdown",
      "source": "#### - if the selection is greater than 0, create an empty FC in the workspace GDB and append the selected polygon to it",
      "metadata": {
        "tags": [],
        "jp-MarkdownHeadingCollapsed": true
      }
    },
    {
      "cell_type": "code",
      "source": "if int(arcpy.management.GetCount(polygon_fc).getOutput(0)) > 0:\n    arcpy.AddMessage(\"Serving area selected...\")\n\n    # create empty FC for translated serving area\n    geometry_type = \"POLYGON\"\n    template = f\"{schema}ServingArea\"\n    polygon_fc = \"Polygon\"\n\n    arcpy.management.CreateFeatureclass(scratch_gdb,\n                                        SAs,\n                                        geometry_type,\n                                        template,\n                                        has_m,\n                                        has_z,\n                                        spatial_ref)\n\n    arcpy.AddMessage(\"Translated serving area FC created...\")\n\n    # append selected features to \"Translated_Conduits\" FC\n    arcpy.management.Append(polygon_fc, SAs_path, \"NO_TEST\")\n\n    arcpy.AddMessage(f\"Selected serving area appended to '{SAs}' FC!\")\n\nelse:\n    arcpy.AddMessage(\"No features met the selection criteria for serving areas...\")",
      "metadata": {},
      "execution_count": null,
      "outputs": []
    },
    {
      "cell_type": "markdown",
      "source": "##### *** all newly created FC's use an empty TDS FC as a template so that it adopts the TDS schema ***",
      "metadata": {}
    },
    {
      "cell_type": "markdown",
      "source": "### e) TOC/GDB clean-up",
      "metadata": {
        "tags": [],
        "jp-MarkdownHeadingCollapsed": true
      }
    },
    {
      "cell_type": "markdown",
      "source": "#### - delete \"InputPointCopy\" FC",
      "metadata": {
        "jp-MarkdownHeadingCollapsed": true,
        "tags": []
      }
    },
    {
      "cell_type": "code",
      "source": "##~~~~~~~~~~~~~~~~~~~~ delete the \"InputPointCopy\" FC ~~~~~~~~~~~~~~~~~~~~~~~~##\narcpy.management.Delete(out_copy)\n\narcpy.AddMessage('\"InputPointCopy\" FC deleted...' )",
      "metadata": {},
      "execution_count": null,
      "outputs": []
    },
    {
      "cell_type": "markdown",
      "source": "#### - remove the imported CAD data from the TOC",
      "metadata": {
        "tags": [],
        "jp-MarkdownHeadingCollapsed": true
      }
    },
    {
      "cell_type": "code",
      "source": "##~~~~~~~~~~~~~~~~~~~~ remove CAD import data from TOC ~~~~~~~~~~~~~~~~~~~~~~~~##\nremove = [\"Point\", \"Polyline\", \"Polygon\", \"Polyline_join\"]\n\nfor layer_name in remove:\n    layer_obj = m.listLayers(layer_name)[0] # Find the layer by name\n    m.removeLayer(layer_obj) # Remove the layer from the TOC\n\narcpy.AddMessage('\"Point\", \"Polyline\", \"Polygon\", and \"Polyline_join\" FCs removed from TOC...')",
      "metadata": {},
      "execution_count": null,
      "outputs": []
    },
    {
      "cell_type": "markdown",
      "source": "# 3) Append translated features to TDS feature service",
      "metadata": {
        "tags": [],
        "jp-MarkdownHeadingCollapsed": true
      }
    },
    {
      "cell_type": "markdown",
      "source": "### a) set workspace",
      "metadata": {
        "tags": [],
        "jp-MarkdownHeadingCollapsed": true
      }
    },
    {
      "cell_type": "markdown",
      "source": "##### You could hardcode this if you wanted... but since it's a script tool \"arcpy.GetParameterAsText()\" is used so that the user can specify the desired GDB",
      "metadata": {}
    },
    {
      "cell_type": "code",
      "source": "# set workspace\nscratch_gdb = arcpy.GetParameterAsText (0)\n\narcpy.env.workspace = scratch_gdb",
      "metadata": {},
      "execution_count": null,
      "outputs": []
    },
    {
      "cell_type": "markdown",
      "source": "### b) specify the name and path of the desired translated FC",
      "metadata": {
        "jp-MarkdownHeadingCollapsed": true,
        "tags": []
      }
    },
    {
      "cell_type": "code",
      "source": "##~~~~~~~~~~~~~~~~~~~~ ACCESS POINTS ~~~~~~~~~~~~~~~~~~~~~~~~~~##\n\n# Specify the name and path of the feature class\nFC_name = \"Translated_AccessPoints\"\nAPs = f\"{scratch_gdb}/{FC_name}\"",
      "metadata": {},
      "execution_count": null,
      "outputs": []
    },
    {
      "cell_type": "markdown",
      "source": "### c) if the FC exists in the workspace GDB, append it to the corresponding TDS feature service",
      "metadata": {
        "tags": [],
        "jp-MarkdownHeadingCollapsed": true
      }
    },
    {
      "cell_type": "code",
      "source": "if arcpy.Exists(APs):\n    # Define the paths and variables\n    ServiceName = \"AccessPoint\"\n    inputs = APs\n    target = f\"{TDS_layer}/{ServiceName}\"\n    schema_type = \"NO_TEST\"\n\n    # Append the data only if the feature class exists\n    arcpy.management.Append(inputs, target, schema_type)\n    arcpy.AddMessage(f'\"{FC_name}\" appended to {TDS_layer}/{ServiceName}...')\n\nelse:\n    arcpy.AddMessage(f'\"{FC_name}\" does not exist in the workspace geodatabase...')",
      "metadata": {},
      "execution_count": null,
      "outputs": []
    },
    {
      "cell_type": "markdown",
      "source": "##### *** this process is then repeated for the remaining translated features (FSE's, PCR's, splitters, poles, conduits, fiber cable/drop cable, and SA's) ***",
      "metadata": {}
    },
    {
      "cell_type": "markdown",
      "source": "# 4) Set definition query according to current project WBS code",
      "metadata": {
        "jp-MarkdownHeadingCollapsed": true,
        "tags": []
      }
    },
    {
      "cell_type": "markdown",
      "source": "### a) access the current pro project, map frame, and access the layers in the TOC",
      "metadata": {
        "jp-MarkdownHeadingCollapsed": true,
        "tags": []
      }
    },
    {
      "cell_type": "code",
      "source": "import arcpy\n\n# access current pro project\naprx = arcpy.mp.ArcGISProject(\"CURRENT\")\n\n# access current map frame\nm = aprx.activeMap\n\n# access layers in TOC\nlyrList = m.listLayers()",
      "metadata": {},
      "execution_count": null,
      "outputs": []
    },
    {
      "cell_type": "markdown",
      "source": "### b) make list of target layer names",
      "metadata": {
        "tags": [],
        "jp-MarkdownHeadingCollapsed": true
      }
    },
    {
      "cell_type": "code",
      "source": "ADP_GIS_EDIT = [\"ADP_GIS_EDIT\\FiberSpliceEnclosure\", \"ADP_GIS_EDIT\\AccessPoint\", \"ADP_GIS_EDIT\\FiberSplitter\", \"ADP_GIS_EDIT\\Pole\",\n                \"ADP_GIS_EDIT\\FiberCable\", \"ADP_GIS_EDIT\\Conduit\", \"ADP_GIS_EDIT\\ServingArea\"]",
      "metadata": {},
      "execution_count": null,
      "outputs": []
    },
    {
      "cell_type": "markdown",
      "source": "### c) set desired WBS code to be used in loops",
      "metadata": {
        "tags": [],
        "jp-MarkdownHeadingCollapsed": true
      }
    },
    {
      "cell_type": "markdown",
      "source": "##### You could hardcode this if you wanted... but since it's a script tool \"arcpy.GetParameterAsText()\" is used so that the user can specify the desired WBS code",
      "metadata": {}
    },
    {
      "cell_type": "code",
      "source": "wbs_code = arcpy.GetParameterAsText (0)\n\n#~~~~~ Change to desired proj WBS code! ~~~~~#\nWBS = f\"TDS_WBS_CODE = '{wbs_code}'\"",
      "metadata": {},
      "execution_count": null,
      "outputs": []
    },
    {
      "cell_type": "markdown",
      "source": "### d) change \"PortConnection\" table definition query",
      "metadata": {
        "tags": [],
        "jp-MarkdownHeadingCollapsed": true
      }
    },
    {
      "cell_type": "code",
      "source": "for m in aprx.listMaps():\n    for tbl in m.listTables():\n        if tbl.longName == \"ADP_GIS_EDIT\\PortConnection\":\n            tbl.updateDefinitionQueries([]) # Change the definition query of target table\n            tbl.definitionQuery = WBS\n        else:\n            tbl.updateDefinitionQueries([])\n\narcpy.AddMessage(\"Port connection table DQ changed...\")",
      "metadata": {},
      "execution_count": null,
      "outputs": []
    },
    {
      "cell_type": "markdown",
      "source": "### e) change the definition query of layers in the \"ADP_GIS_EDIT\" list",
      "metadata": {
        "tags": [],
        "jp-MarkdownHeadingCollapsed": true
      }
    },
    {
      "cell_type": "code",
      "source": "for l in lyrList:\n    if l.isGroupLayer:\n        lyrs = l.listLayers()\n        for lyr in lyrs:\n            if lyr.longName in ADP_GIS_EDIT:\n                lyr.updateDefinitionQueries([]) # Change the definition query of target layers\n                lyr.definitionQuery = WBS\n            else:\n                lyr.updateDefinitionQueries([])\n\narcpy.AddMessage(\"Feature class DQ's changed...\")",
      "metadata": {},
      "execution_count": null,
      "outputs": []
    }
  ]
}