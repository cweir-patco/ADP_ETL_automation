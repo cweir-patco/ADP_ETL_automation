{
  "cells": [
    {
      "attachments": {},
      "cell_type": "markdown",
      "metadata": {
        "jp-MarkdownHeadingCollapsed": true,
        "tags": []
      },
      "source": [
        "# 1) Extract CAD data to GIS"
      ]
    },
    {
      "attachments": {},
      "cell_type": "markdown",
      "metadata": {
        "jp-MarkdownHeadingCollapsed": true,
        "tags": []
      },
      "source": [
        "### a) Create a new FGDB and set it as the workspace"
      ]
    },
    {
      "cell_type": "code",
      "execution_count": null,
      "metadata": {},
      "outputs": [],
      "source": [
        "##~~~~~~~~~~~ Create a scratch GDB to house data ~~~~~~~~~~~##\n",
        "out_gdb_name = \"CAD2GIS.gdb\"\n",
        "\n",
        "arcpy.management.CreateFileGDB(out_folder_path, out_gdb_name)\n",
        "\n",
        "arcpy.AddMessage(\"Scratch GDB created...\")\n",
        "\n",
        "# set scratch GDB\n",
        "scratch_gdb = f\"{out_folder_path}/{out_gdb_name}\"\n",
        "\n",
        "# set workspace\n",
        "arcpy.env.workspace = scratch_gdb\n",
        "\n",
        "arcpy.AddMessage(\"Workspace set to scratch GDB...\")"
      ]
    },
    {
      "attachments": {},
      "cell_type": "markdown",
      "metadata": {
        "jp-MarkdownHeadingCollapsed": true,
        "tags": []
      },
      "source": [
        "### b) Extract CAD data"
      ]
    },
    {
      "cell_type": "code",
      "execution_count": null,
      "metadata": {},
      "outputs": [],
      "source": [
        "##~~~~~~~~~~~ CAD to GIS (feature dataset creation) ~~~~~~~~~~~##\n",
        "\n",
        "# set variables for CADtoGDB tool\n",
        "out_gdb_path = scratch_gdb\n",
        "out_dataset_name = \"CAD2GIS\"\n",
        "reference_scale = \"1000\"\n",
        "\n",
        "arcpy.conversion.CADToGeodatabase(input_cad_dataset, out_gdb_path,\n",
        "                                  out_dataset_name, reference_scale,\n",
        "                                  spatial_ref)\n",
        "\n",
        "arcpy.AddMessage(\"CAD to GIS complete...\")"
      ]
    },
    {
      "attachments": {},
      "cell_type": "markdown",
      "metadata": {
        "jp-MarkdownHeadingCollapsed": true,
        "tags": []
      },
      "source": [
        "### c) Standardize field values"
      ]
    },
    {
      "cell_type": "code",
      "execution_count": null,
      "metadata": {},
      "outputs": [],
      "source": [
        "##~~~~~~~~~~~ recalculate \"BUILD_STATUS\", \"INSTALLATION_YEAR\", \"TDS_WBS_CODE\", \"MARKET_CODE\" field values in \"Point\" FC ~~~~~~~~~~~##\n",
        "point_fc = \"Point\"\n",
        "field_name = \"BUILD_STATUS\"\n",
        "\n",
        "# BUILD STATUS\n",
        "# Open an update cursor on the feature class\n",
        "with arcpy.da.UpdateCursor(point_fc, field_name) as cursor:\n",
        "    for row in cursor:\n",
        "        # Calculate the value for the field\n",
        "        value = \"As Staked\"\n",
        "        # Update the field value for all rows\n",
        "        row[0] = value\n",
        "        cursor.updateRow(row)\n",
        "\n",
        "# INSTALLATION YEAR\n",
        "field_name = \"INSTALLATION_YEAR\"\n",
        "\n",
        "# Open an update cursor on the feature class\n",
        "with arcpy.da.UpdateCursor(point_fc, field_name) as cursor:\n",
        "    for row in cursor:\n",
        "        # Calculate the value for the field\n",
        "        value = \"2023\"\n",
        "        # Update the field value for all rows\n",
        "        row[0] = value\n",
        "        cursor.updateRow(row)\n",
        "\n",
        "# TBS_WBS_CODE\n",
        "field_name = \"TDS_WBS_CODE\"\n",
        "\n",
        "# Open an update cursor on the feature class\n",
        "with arcpy.da.UpdateCursor(point_fc, field_name) as cursor:\n",
        "    for row in cursor:\n",
        "        # Calculate the value for the field\n",
        "        value = proj_wbs_code\n",
        "        # Update the field value for all rows\n",
        "        row[0] = value\n",
        "        cursor.updateRow(row)\n",
        "\n",
        "# MARKET CODE\n",
        "field_name = \"MARKET_CODE\"\n",
        "\n",
        "# Open an update cursor on the feature class\n",
        "with arcpy.da.UpdateCursor(point_fc, field_name) as cursor:\n",
        "    for row in cursor:\n",
        "        # Calculate the value for the field\n",
        "        value = market_code\n",
        "        # Update the field value for all rows\n",
        "        row[0] = value\n",
        "        cursor.updateRow(row)\n",
        "\n",
        "arcpy.AddMessage(\"Point fields calculated...\")"
      ]
    },
    {
      "attachments": {},
      "cell_type": "markdown",
      "metadata": {},
      "source": [
        "##### *** this process gets repeated for the \"Polyline\" and \"Polygon\" FC's as well ***"
      ]
    },
    {
      "attachments": {},
      "cell_type": "markdown",
      "metadata": {
        "jp-MarkdownHeadingCollapsed": true,
        "tags": []
      },
      "source": [
        "### d) Polyline specific field standardization"
      ]
    },
    {
      "attachments": {},
      "cell_type": "markdown",
      "metadata": {},
      "source": [
        "##### For features that meet the where clause (SQL query), the code first copies and pastes the values in the \"Layer\" field to the \"COMMENTS\" field, then updates the \"Layer\" field value to == \"Fiber Cable\""
      ]
    },
    {
      "cell_type": "code",
      "execution_count": null,
      "metadata": {},
      "outputs": [],
      "source": [
        "# Move \"Layer\" field values to \"COMMENT\" field and change \"Layer\" value to == \"Fiber Cable\"... for rows that meet the where_clause variable!\n",
        "polyline_fc = \"Polyline\"\n",
        "layer_field = \"Layer\"\n",
        "comments_field = \"COMMENTS\"\n",
        "where_clause = \"Entity = 'LWPolyline' And Layer LIKE '%Count%'\"\n",
        "\n",
        "with arcpy.da.UpdateCursor(polyline_fc, [layer_field, comments_field], where_clause) as cursor:\n",
        "    for row in cursor:\n",
        "        cursor.updateRow([\"Fiber Cable\", row[0]])\n",
        "\n",
        "arcpy.AddMessage('\"Layer\" and \"COMMENT\" field values updated...')"
      ]
    },
    {
      "attachments": {},
      "cell_type": "markdown",
      "metadata": {
        "jp-MarkdownHeadingCollapsed": true,
        "tags": []
      },
      "source": [
        "### f) Add Feature Classes (FCs) to the Table of Contents (TOC)"
      ]
    },
    {
      "cell_type": "code",
      "execution_count": null,
      "metadata": {},
      "outputs": [],
      "source": [
        "# add \"Polygon\" FC to the bottom of TOC\n",
        "polygon_path = f\"{scratch_gdb}/{out_dataset_name}/{polygon_fc}\"\n",
        "m.addDataFromPath(polygon_path)\n",
        "\n",
        "# add \"Polyline\" FC to the TOC\n",
        "polyline_path = f\"{scratch_gdb}/{out_dataset_name}/{polyline_fc}\"\n",
        "m.addDataFromPath(polyline_path)\n",
        "\n",
        "# add \"Point\" FC to the top of TOC\n",
        "point_path = f\"{scratch_gdb}/{out_dataset_name}/{point_fc}\"\n",
        "m.addDataFromPath(point_path)\n",
        "\n",
        "arcpy.AddMessage('\"Point\", \"Polyline\", and \"Polygon\" FCs added to TOC...')"
      ]
    },
    {
      "attachments": {},
      "cell_type": "markdown",
      "metadata": {
        "jp-MarkdownHeadingCollapsed": true,
        "tags": []
      },
      "source": [
        "# 2) Translate features to TDS schema"
      ]
    },
    {
      "attachments": {},
      "cell_type": "markdown",
      "metadata": {
        "jp-MarkdownHeadingCollapsed": true,
        "tags": []
      },
      "source": [
        "### a) set workspace"
      ]
    },
    {
      "attachments": {},
      "cell_type": "markdown",
      "metadata": {},
      "source": [
        "##### You could hardcode these variables if you wanted... but since it's a script tool \"arcpy.GetParameterAsText()\" is used so that the user can specify the desired GDB and spatial reference"
      ]
    },
    {
      "cell_type": "code",
      "execution_count": null,
      "metadata": {},
      "outputs": [],
      "source": [
        "# set project specific variables\n",
        "scratch_gdb = arcpy.GetParameterAsText (0)\n",
        "spatial_ref = arcpy.GetParameterAsText (1)\n",
        "\n",
        "# set workspace\n",
        "arcpy.env.workspace = scratch_gdb"
      ]
    },
    {
      "attachments": {},
      "cell_type": "markdown",
      "metadata": {
        "jp-MarkdownHeadingCollapsed": true,
        "tags": []
      },
      "source": [
        "### b) Polyline management"
      ]
    },
    {
      "attachments": {},
      "cell_type": "markdown",
      "metadata": {},
      "source": [
        "##### The goal here is to get data from the \"Point\" FC into the \"Polyline\" FC... this was the work around that I came up with but there's likely a more efficient way to do this..."
      ]
    },
    {
      "attachments": {},
      "cell_type": "markdown",
      "metadata": {
        "jp-MarkdownHeadingCollapsed": true,
        "tags": []
      },
      "source": [
        "#### - create a copy of the \"Point\" FC that was created in step 1b"
      ]
    },
    {
      "cell_type": "code",
      "execution_count": null,
      "metadata": {},
      "outputs": [],
      "source": [
        "#~~~~~~~~~~~~~~~~~~~~~~~~~~~~ create copy of \"Point\" FC ~~~~~~~~~~~~~~~~~~~~~~~~~#\n",
        "copy_name = \"InputPointCopy\"\n",
        "out_copy = f\"{scratch_gdb}\\{copy_name}\"\n",
        "\n",
        "arcpy.conversion.ExportFeatures(point_fc, copy_name)\n",
        "\n",
        "arcpy.AddMessage(\"'InputPointCopy' FC created...\")"
      ]
    },
    {
      "attachments": {},
      "cell_type": "markdown",
      "metadata": {
        "jp-MarkdownHeadingCollapsed": true,
        "tags": []
      },
      "source": [
        "#### - join the copied Point FC (\"InputPointCopy\") with the \"Polyline\" FC"
      ]
    },
    {
      "cell_type": "code",
      "execution_count": null,
      "metadata": {},
      "outputs": [],
      "source": [
        "#~~~~~~~~~~~~~~~~~~~~~~~~~~~~ join \"InputPointCopy\" FC table with \"Polyline\" FC table ~~~~~~~~~~~~~~~~~~~~~~~~~#\n",
        "inLayer = polyline_fc\n",
        "inField = \"Handle\"\n",
        "joinTable = copy_name\n",
        "joinField = \"TARGET_HANDLE\"\n",
        "joinType = \"KEEP_ALL\"\n",
        "index_join_fields = \"NO_INDEX_JOIN_FIELDS\"\n",
        "\n",
        "arcpy.management.AddJoin(inLayer,\n",
        "                         inField,\n",
        "                         joinTable,\n",
        "                         joinField,\n",
        "                         joinType,\n",
        "                         index_join_fields)\n",
        "\n",
        "arcpy.AddMessage(\"Join complete...\")"
      ]
    },
    {
      "attachments": {},
      "cell_type": "markdown",
      "metadata": {
        "jp-MarkdownHeadingCollapsed": true,
        "tags": []
      },
      "source": [
        "#### - create a copy of the joined \"Polyline\" FC so that the fields are editable"
      ]
    },
    {
      "cell_type": "code",
      "execution_count": null,
      "metadata": {},
      "outputs": [],
      "source": [
        "#~~~~~~~~~~~~~~~~~~~~~~~~~~~~ create copy of \"Polyline\" FC so that fields are editable ~~~~~~~~~~~~~~~~~~~~~~~~~#\n",
        "line_copy = \"Polyline_join\"\n",
        "line_copy_path = f\"{scratch_gdb}\\{line_copy}\"\n",
        "\n",
        "arcpy.management.CopyFeatures(polyline_fc, line_copy)\n",
        "arcpy.AddMessage(f'\"{line_copy}\" FC created...')"
      ]
    },
    {
      "attachments": {},
      "cell_type": "markdown",
      "metadata": {
        "jp-MarkdownHeadingCollapsed": true,
        "tags": []
      },
      "source": [
        "#### - copy values from fields starting with \"InputPointCopy_\" to fields starting with \"Polyline_\""
      ]
    },
    {
      "cell_type": "code",
      "execution_count": null,
      "metadata": {},
      "outputs": [],
      "source": [
        "#~~~~~~~~~~~~~~~~~~~~~~~~~~~~ copy values from \"InputPointCopy_\" fields to \"Polyline_\" fields ~~~~~~~~~~~~~~~~~~~~~~~~~#\n",
        "\n",
        "# create tuble of field names [(\"take values from this field\", \"and put them in this field\")]\n",
        "field_pairs = [\n",
        "    (\"InputPointCopy_FIBER_CABLE_TYPE\", \"Polyline_FIBER_CABLE_TYPE\"),\n",
        "    (\"InputPointCopy_FIBER_CABLE_NAME\", \"Polyline_FIBER_CABLE_NAME\"),\n",
        "    (\"InputPointCopy_ROUTE\", \"Polyline_ROUTE\"),\n",
        "    (\"InputPointCopy_PLACEMENT_TYPE\", \"Polyline_PLACEMENT_TYPE\"),\n",
        "    (\"InputPointCopy_CABLE_SEQUENTIAL_LENGTH\", \"Polyline_CABLE_SEQUENTIAL_LENGTH\"),\n",
        "    (\"InputPointCopy_CABLE_COUNT\", \"Polyline_CABLE_COUNT\"),\n",
        "    (\"InputPointCopy_BUFFER_QTY\", \"Polyline_BUFFER_QTY\"),\n",
        "    (\"InputPointCopy_FIBER_QTY\", \"Polyline_FIBER_QTY\"),\n",
        "    (\"InputPointCopy_APPROVED_IND\", \"Polyline_APPROVED_IND\"),\n",
        "    (\"InputPointCopy_CONDUIT_DIAMETER\", \"Polyline_CONDUIT_DIAMETER\"),\n",
        "    (\"InputPointCopy_CONDUIT_MATERIAL\", \"Polyline_CONDUIT_MATERIAL\"),\n",
        "    (\"InputPointCopy_CONDUIT_SEQUENTIAL_LENGTH\", \"Polyline_CONDUIT_SEQUENTIAL_LENGTH\"),\n",
        "    (\"InputPointCopy_CONDUIT_OWNER\", \"Polyline_CONDUIT_OWNER\"),\n",
        "    (\"InputPointCopy_INNERDUCT_QTY\", \"Polyline_INNERDUCT_QTY\")\n",
        "]\n",
        "\n",
        "# Update cursor to iterate through features\n",
        "with arcpy.da.UpdateCursor(line_copy, [pair[0] for pair in field_pairs] + [pair[1] for pair in field_pairs]) as cursor:\n",
        "    for row in cursor:\n",
        "        for i, pair in enumerate(field_pairs):\n",
        "            row[i+len(field_pairs)] = row[i]  # Assign value from source field to target field\n",
        "        cursor.updateRow(row)  # Update the row with the new values\n",
        "\n",
        "# Save project\n",
        "aprx.save()\n",
        "\n",
        "arcpy.AddMessage(\"Field values copied successfully...\")"
      ]
    },
    {
      "attachments": {},
      "cell_type": "markdown",
      "metadata": {
        "jp-MarkdownHeadingCollapsed": true,
        "tags": []
      },
      "source": [
        "#### - remove \"Polyline_\" from beginning of field names"
      ]
    },
    {
      "cell_type": "code",
      "execution_count": null,
      "metadata": {},
      "outputs": [],
      "source": [
        "# Get a list of all field names in the feature class\n",
        "field_list = arcpy.ListFields(line_copy)\n",
        "total_fields = len(field_list)\n",
        "\n",
        "# Loop through the fields and update the names\n",
        "for field in field_list:\n",
        "    if field.name.startswith(\"Polyline_\"):\n",
        "        new_name = field.name.replace(\"Polyline_\", \"\")\n",
        "        arcpy.management.AlterField(line_copy, field.name, new_name)\n",
        "\n",
        "arcpy.AddMessage('\"Polyline_\" removed from beginning of field names...')"
      ]
    },
    {
      "attachments": {},
      "cell_type": "markdown",
      "metadata": {
        "jp-MarkdownHeadingCollapsed": true,
        "tags": []
      },
      "source": [
        "#### - delete fields starting with \"InputPointCopy_\""
      ]
    },
    {
      "cell_type": "code",
      "execution_count": null,
      "metadata": {},
      "outputs": [],
      "source": [
        "#~~~~~~~~~~~~~~~~~~~~~~~~~~~~ delete fields starting with \"InputPointCopy_\" ~~~~~~~~~~~~~~~~~~~~~~~~~#\n",
        "\n",
        "fields_to_delete = []\n",
        "for fields in field_list:\n",
        "    if fields.name.startswith(\"InputPointCopy_\"):\n",
        "        fields_to_delete.append(fields.name)\n",
        "\n",
        "if len(fields_to_delete) > 0:\n",
        "    arcpy.management.DeleteField(line_copy, fields_to_delete)\n",
        "    arcpy.AddMessage('Fields starting with \"InputPointCopy_\" deleted...')"
      ]
    },
    {
      "attachments": {},
      "cell_type": "markdown",
      "metadata": {
        "jp-MarkdownHeadingCollapsed": true,
        "tags": []
      },
      "source": [
        "#### - remove single spaces, then for records where the \"CABLE_COUNT\" field value is not null, replace instances of \"\\P\" with a single space"
      ]
    },
    {
      "cell_type": "code",
      "execution_count": null,
      "metadata": {},
      "outputs": [],
      "source": [
        "#~~~~~~~~~~~~~~~~~~~~ remove single spaces, then replace \"\\P\" with a space in \"CABLE_COUNT\" field ~~~~~~~~~~~~~~~~~~#\n",
        "\n",
        "with arcpy.da.UpdateCursor(line_copy, \"CABLE_COUNT\") as cursor:\n",
        "    for row in cursor:\n",
        "        if row[0] is not None: # Check if the value in the \"CABLE_COUNT\" field is not null\n",
        "            row[0] = row[0].replace(\" \", \"\") # Remove single spaces\n",
        "            row[0] = row[0].replace(\"\\\\P\", \" \") # Replace \"\\P\" with a single space\n",
        "            cursor.updateRow(row) # Update the row with the modified value\n",
        "\n",
        "arcpy.AddMessage('\"CABLE_COUNT\" field cleaned...')"
      ]
    },
    {
      "attachments": {},
      "cell_type": "markdown",
      "metadata": {
        "jp-MarkdownHeadingCollapsed": true,
        "tags": []
      },
      "source": [
        "#### - remove the join on the original \"Polyline\" FC and add \"Polyline_join\" FC to the TOC"
      ]
    },
    {
      "cell_type": "code",
      "execution_count": null,
      "metadata": {},
      "outputs": [],
      "source": [
        "##~~~~~~~~~~~~~~~~~~~~~~~~~~~~ remove the join on \"Polyline\" FC ~~~~~~~~~~~~~~~~~~~~~~~~~##\n",
        "\n",
        "arcpy.management.RemoveJoin(polyline_fc)\n",
        "arcpy.AddMessage(f'Join removed from \"{polyline_fc}\" FC...')\n",
        "\n",
        "##~~~~~~~~~~~~~~~~~~~~~~~~~~~~ Add \"Polyline_join\" FC to TOC ~~~~~~~~~~~~~~~~~~~~~~~~~##\n",
        "\n",
        "layer_path = arcpy.management.MakeFeatureLayer(line_copy, line_copy) # Create a layer object from the feature class\n",
        "\n",
        "m.addLayer(layer_path.getOutput(0))\n",
        "\n",
        "arcpy.AddMessage(f'\"{line_copy}\" FC added to TOC...')"
      ]
    },
    {
      "attachments": {},
      "cell_type": "markdown",
      "metadata": {
        "jp-MarkdownHeadingCollapsed": true,
        "tags": []
      },
      "source": [
        "### c) \"Point\" feature translation"
      ]
    },
    {
      "attachments": {},
      "cell_type": "markdown",
      "metadata": {
        "jp-MarkdownHeadingCollapsed": true,
        "tags": []
      },
      "source": [
        "#### - select for desired features in the \"Point\" FC (in this case, access points)"
      ]
    },
    {
      "cell_type": "code",
      "execution_count": null,
      "metadata": {},
      "outputs": [],
      "source": [
        "##~~~~~~~~~~~ ACCESS POINTS ~~~~~~~~~~~##\n",
        "\n",
        "APs = \"Translated_AccessPoints\"\n",
        "APs_path = f\"{scratch_gdb}\\{APs}\"\n",
        "\n",
        "# Select access points from \"Point\" FC\n",
        "arcpy.management.SelectLayerByAttribute(point_fc,\n",
        "                                        \"NEW_SELECTION\",\n",
        "                                        \"(Layer = 'Peds Proposed' Or Layer = 'Vaults Proposed') And ACCESS_POINT_TYPE IS NOT NULL\")"
      ]
    },
    {
      "attachments": {},
      "cell_type": "markdown",
      "metadata": {
        "jp-MarkdownHeadingCollapsed": true,
        "tags": []
      },
      "source": [
        "#### - if the selection is greater than 0, create an empty FC in the workspace GDB and append the selected features to it"
      ]
    },
    {
      "cell_type": "code",
      "execution_count": null,
      "metadata": {},
      "outputs": [],
      "source": [
        "if int(arcpy.management.GetCount(point_fc).getOutput(0)) > 0:\n",
        "    arcpy.AddMessage(\"Access points selected...\")\n",
        "\n",
        "    # create empty FC for translated access points\n",
        "    geometry_type = \"POINT\"\n",
        "    template = f\"{schema}AccessPoint\"\n",
        "\n",
        "    arcpy.management.CreateFeatureclass(scratch_gdb,\n",
        "                                        APs,\n",
        "                                        geometry_type,\n",
        "                                        template,\n",
        "                                        has_m,\n",
        "                                        has_z,\n",
        "                                        spatial_ref)\n",
        "\n",
        "    arcpy.AddMessage(f\"'{APs}' FC created...\")\n",
        "\n",
        "    # append selected features to \"Translated_AccessPoints\" FC\n",
        "    arcpy.management.Append(point_fc, APs_path, \"NO_TEST\")\n",
        "\n",
        "    arcpy.AddMessage(f\"Selected access points appended to '{APs}' FC!\")\n",
        "\n",
        "else:\n",
        "    arcpy.AddMessage(\"No features met the selection criteria for access points...\")"
      ]
    },
    {
      "attachments": {},
      "cell_type": "markdown",
      "metadata": {},
      "source": [
        "##### *** all newly created FC's use an empty TDS FC as a template so that they adopt the TDS schema ***"
      ]
    },
    {
      "attachments": {},
      "cell_type": "markdown",
      "metadata": {},
      "source": [
        "##### *** this process is then repeated for all other point features (fiber splitters, port connection rows, fiber splice enclosures, and poles) ***"
      ]
    },
    {
      "attachments": {},
      "cell_type": "markdown",
      "metadata": {
        "jp-MarkdownHeadingCollapsed": true,
        "tags": []
      },
      "source": [
        "### d) \"Polyline\" feature translation"
      ]
    },
    {
      "attachments": {},
      "cell_type": "markdown",
      "metadata": {
        "jp-MarkdownHeadingCollapsed": true,
        "tags": []
      },
      "source": [
        "#### - select for desired features in the \"Polyline\" FC (in this case, fiber cables)"
      ]
    },
    {
      "cell_type": "code",
      "execution_count": null,
      "metadata": {},
      "outputs": [],
      "source": [
        "##~~~~~~~~~~~ FIBER CABLES ~~~~~~~~~~~##\n",
        "\n",
        "FCs = \"Translated_FiberCables\"\n",
        "FCs_path = f\"{scratch_gdb}\\{FCs}\"\n",
        "\n",
        "# Select fiber cables from \"Polyline_join\" FC\n",
        "arcpy.management.SelectLayerByAttribute(line_copy,\n",
        "                                        \"NEW_SELECTION\",\n",
        "                                        \"Entity = 'LWPolyline' And Layer = 'Fiber Cable' And FIBER_CABLE_TYPE IS NOT NULL\")"
      ]
    },
    {
      "attachments": {},
      "cell_type": "markdown",
      "metadata": {
        "jp-MarkdownHeadingCollapsed": true,
        "tags": []
      },
      "source": [
        "#### - if the selection is greater than 0, create an empty FC in the workspace GDB, append the selected polylines to it, and run the densify GP tool on the new FC"
      ]
    },
    {
      "cell_type": "code",
      "execution_count": null,
      "metadata": {},
      "outputs": [],
      "source": [
        "if int(arcpy.management.GetCount(line_copy).getOutput(0)) > 0:\n",
        "    arcpy.AddMessage(\"Fiber cables selected...\")\n",
        "\n",
        "    #~~~~~~~~~~~~~~~~~~~~~~~~~~~~ create empty FC for translated fiber cables ~~~~~~~~~~~~~~~~~~~~~~~~~#\n",
        "    geometry_type = \"POLYLINE\"\n",
        "    template = f\"{schema}FiberCable\"\n",
        "\n",
        "    arcpy.management.CreateFeatureclass(scratch_gdb,\n",
        "                                        FCs,\n",
        "                                        geometry_type,\n",
        "                                        template,\n",
        "                                        has_m,\n",
        "                                        has_z,\n",
        "                                        spatial_ref)\n",
        "\n",
        "    arcpy.AddMessage(f\"'{FCs}' FC created...\")\n",
        "\n",
        "    # append selected features to \"Translated_FiberCables\" FC\n",
        "    arcpy.management.Append(line_copy, FCs_path, \"NO_TEST\")\n",
        "\n",
        "    arcpy.AddMessage(f\"Selected fiber cables appended to '{FCs}' FC!\")\n",
        "\n",
        "    # densify\n",
        "    arcpy.edit.Densify(FCs_path, \"DISTANCE\", 10)\n",
        "\n",
        "    arcpy.AddMessage(f\"'{FCs}' densified...\")\n",
        "\n",
        "else:\n",
        "    arcpy.AddMessage(\"No features met the selection criteria for fiber cables...\")"
      ]
    },
    {
      "attachments": {},
      "cell_type": "markdown",
      "metadata": {},
      "source": [
        "##### *** all newly created FC's use an empty TDS FC as a template so that they adopt the TDS schema ***"
      ]
    },
    {
      "attachments": {},
      "cell_type": "markdown",
      "metadata": {},
      "source": [
        "##### *** this process is then repeated for all other polyline features (fiber drop cables and conduits) ***"
      ]
    },
    {
      "attachments": {},
      "cell_type": "markdown",
      "metadata": {
        "jp-MarkdownHeadingCollapsed": true,
        "tags": []
      },
      "source": [
        "### e) \"Polygon\" feature translation"
      ]
    },
    {
      "attachments": {},
      "cell_type": "markdown",
      "metadata": {
        "jp-MarkdownHeadingCollapsed": true,
        "tags": []
      },
      "source": [
        "#### - select for serving area in the \"Polygon\" FC"
      ]
    },
    {
      "cell_type": "code",
      "execution_count": null,
      "metadata": {},
      "outputs": [],
      "source": [
        "##~~~~~~~~~~~ SERVING AREA ~~~~~~~~~~~##\n",
        "\n",
        "SAs = \"Translated_ServingArea\"\n",
        "SAs_path = f\"{scratch_gdb}\\{SAs}\"\n",
        "\n",
        "# Select serving area from \"Polygon\" FC\n",
        "arcpy.management.SelectLayerByAttribute(polygon_fc,\n",
        "                                        \"NEW_SELECTION\",\n",
        "                                        r\"(Layer LIKE '%DFN%' And Entity = 'LWPolyline') Or (Layer LIKE '%FDH%' And Entity = 'LWPolyline')\")"
      ]
    },
    {
      "attachments": {},
      "cell_type": "markdown",
      "metadata": {
        "jp-MarkdownHeadingCollapsed": true,
        "tags": []
      },
      "source": [
        "#### - if the selection is greater than 0, create an empty FC in the workspace GDB and append the selected polygon to it"
      ]
    },
    {
      "cell_type": "code",
      "execution_count": null,
      "metadata": {},
      "outputs": [],
      "source": [
        "if int(arcpy.management.GetCount(polygon_fc).getOutput(0)) > 0:\n",
        "    arcpy.AddMessage(\"Serving area selected...\")\n",
        "\n",
        "    # create empty FC for translated serving area\n",
        "    geometry_type = \"POLYGON\"\n",
        "    template = f\"{schema}ServingArea\"\n",
        "    polygon_fc = \"Polygon\"\n",
        "\n",
        "    arcpy.management.CreateFeatureclass(scratch_gdb,\n",
        "                                        SAs,\n",
        "                                        geometry_type,\n",
        "                                        template,\n",
        "                                        has_m,\n",
        "                                        has_z,\n",
        "                                        spatial_ref)\n",
        "\n",
        "    arcpy.AddMessage(\"Translated serving area FC created...\")\n",
        "\n",
        "    # append selected features to \"Translated_Conduits\" FC\n",
        "    arcpy.management.Append(polygon_fc, SAs_path, \"NO_TEST\")\n",
        "\n",
        "    arcpy.AddMessage(f\"Selected serving area appended to '{SAs}' FC!\")\n",
        "\n",
        "else:\n",
        "    arcpy.AddMessage(\"No features met the selection criteria for serving areas...\")"
      ]
    },
    {
      "attachments": {},
      "cell_type": "markdown",
      "metadata": {},
      "source": [
        "##### *** all newly created FC's use an empty TDS FC as a template so that they adopt the TDS schema ***"
      ]
    },
    {
      "attachments": {},
      "cell_type": "markdown",
      "metadata": {
        "jp-MarkdownHeadingCollapsed": true,
        "tags": []
      },
      "source": [
        "### e) TOC/GDB clean-up"
      ]
    },
    {
      "attachments": {},
      "cell_type": "markdown",
      "metadata": {
        "jp-MarkdownHeadingCollapsed": true,
        "tags": []
      },
      "source": [
        "#### - delete \"InputPointCopy\" FC"
      ]
    },
    {
      "cell_type": "code",
      "execution_count": null,
      "metadata": {},
      "outputs": [],
      "source": [
        "##~~~~~~~~~~~~~~~~~~~~ delete the \"InputPointCopy\" FC ~~~~~~~~~~~~~~~~~~~~~~~~##\n",
        "arcpy.management.Delete(out_copy)\n",
        "\n",
        "arcpy.AddMessage('\"InputPointCopy\" FC deleted...' )"
      ]
    },
    {
      "attachments": {},
      "cell_type": "markdown",
      "metadata": {
        "jp-MarkdownHeadingCollapsed": true,
        "tags": []
      },
      "source": [
        "#### - remove the imported CAD data and \"Polyline_join\" FC from the TOC"
      ]
    },
    {
      "cell_type": "code",
      "execution_count": null,
      "metadata": {},
      "outputs": [],
      "source": [
        "##~~~~~~~~~~~~~~~~~~~~ remove CAD import data from TOC ~~~~~~~~~~~~~~~~~~~~~~~~##\n",
        "remove = [\"Point\", \"Polyline\", \"Polygon\", \"Polyline_join\"]\n",
        "\n",
        "for layer_name in remove:\n",
        "    layer_obj = m.listLayers(layer_name)[0] # Find the layer by name\n",
        "    m.removeLayer(layer_obj) # Remove the layer from the TOC\n",
        "\n",
        "arcpy.AddMessage('\"Point\", \"Polyline\", \"Polygon\", and \"Polyline_join\" FCs removed from TOC...')"
      ]
    },
    {
      "attachments": {},
      "cell_type": "markdown",
      "metadata": {
        "jp-MarkdownHeadingCollapsed": true,
        "tags": []
      },
      "source": [
        "# 3) Append translated features to TDS feature service"
      ]
    },
    {
      "attachments": {},
      "cell_type": "markdown",
      "metadata": {
        "jp-MarkdownHeadingCollapsed": true,
        "tags": []
      },
      "source": [
        "### a) set workspace"
      ]
    },
    {
      "attachments": {},
      "cell_type": "markdown",
      "metadata": {},
      "source": [
        "##### You could hardcode this if you wanted... but since it's a script tool \"arcpy.GetParameterAsText()\" is used so that the user can specify the desired GDB"
      ]
    },
    {
      "cell_type": "code",
      "execution_count": null,
      "metadata": {},
      "outputs": [],
      "source": [
        "# set workspace\n",
        "scratch_gdb = arcpy.GetParameterAsText (0)\n",
        "\n",
        "arcpy.env.workspace = scratch_gdb"
      ]
    },
    {
      "attachments": {},
      "cell_type": "markdown",
      "metadata": {
        "jp-MarkdownHeadingCollapsed": true,
        "tags": []
      },
      "source": [
        "### b) specify the name and path of the desired translated FC (in this case, access points)"
      ]
    },
    {
      "cell_type": "code",
      "execution_count": null,
      "metadata": {},
      "outputs": [],
      "source": [
        "##~~~~~~~~~~~~~~~~~~~~ ACCESS POINTS ~~~~~~~~~~~~~~~~~~~~~~~~~~##\n",
        "\n",
        "# Specify the name and path of the feature class\n",
        "FC_name = \"Translated_AccessPoints\"\n",
        "APs = f\"{scratch_gdb}/{FC_name}\""
      ]
    },
    {
      "attachments": {},
      "cell_type": "markdown",
      "metadata": {
        "jp-MarkdownHeadingCollapsed": true,
        "tags": []
      },
      "source": [
        "### c) if the FC exists in the workspace GDB, append it to the corresponding TDS feature service"
      ]
    },
    {
      "cell_type": "code",
      "execution_count": null,
      "metadata": {},
      "outputs": [],
      "source": [
        "if arcpy.Exists(APs):\n",
        "    # Define the paths and variables\n",
        "    ServiceName = \"AccessPoint\"\n",
        "    inputs = APs\n",
        "    target = f\"{TDS_layer}/{ServiceName}\"\n",
        "    schema_type = \"NO_TEST\"\n",
        "\n",
        "    # Append the data only if the feature class exists\n",
        "    arcpy.management.Append(inputs, target, schema_type)\n",
        "    arcpy.AddMessage(f'\"{FC_name}\" appended to {TDS_layer}/{ServiceName}...')\n",
        "\n",
        "else:\n",
        "    arcpy.AddMessage(f'\"{FC_name}\" does not exist in the workspace geodatabase...')"
      ]
    },
    {
      "attachments": {},
      "cell_type": "markdown",
      "metadata": {},
      "source": [
        "##### *** this process is then repeated for the remaining translated features (FSE's, PCR's, splitters, poles, conduits, fiber cable/drop cable, and SA's) ***"
      ]
    },
    {
      "attachments": {},
      "cell_type": "markdown",
      "metadata": {
        "jp-MarkdownHeadingCollapsed": true,
        "tags": []
      },
      "source": [
        "# 4) Set definition query according to current project WBS code"
      ]
    },
    {
      "attachments": {},
      "cell_type": "markdown",
      "metadata": {
        "jp-MarkdownHeadingCollapsed": true,
        "tags": []
      },
      "source": [
        "### a) access the current pro project, map frame, and access the layers in the TOC"
      ]
    },
    {
      "cell_type": "code",
      "execution_count": null,
      "metadata": {},
      "outputs": [],
      "source": [
        "import arcpy\n",
        "\n",
        "# access current pro project\n",
        "aprx = arcpy.mp.ArcGISProject(\"CURRENT\")\n",
        "\n",
        "# access current map frame\n",
        "m = aprx.activeMap\n",
        "\n",
        "# access layers in TOC\n",
        "lyrList = m.listLayers()"
      ]
    },
    {
      "attachments": {},
      "cell_type": "markdown",
      "metadata": {
        "jp-MarkdownHeadingCollapsed": true,
        "tags": []
      },
      "source": [
        "### b) make list of target layer names"
      ]
    },
    {
      "cell_type": "code",
      "execution_count": null,
      "metadata": {},
      "outputs": [],
      "source": [
        "ADP_GIS_EDIT = [\"ADP_GIS_EDIT\\FiberSpliceEnclosure\", \"ADP_GIS_EDIT\\AccessPoint\", \"ADP_GIS_EDIT\\FiberSplitter\", \"ADP_GIS_EDIT\\Pole\",\n",
        "                \"ADP_GIS_EDIT\\FiberCable\", \"ADP_GIS_EDIT\\Conduit\", \"ADP_GIS_EDIT\\ServingArea\"]"
      ]
    },
    {
      "attachments": {},
      "cell_type": "markdown",
      "metadata": {
        "jp-MarkdownHeadingCollapsed": true,
        "tags": []
      },
      "source": [
        "### c) set desired WBS code to be used in loops"
      ]
    },
    {
      "attachments": {},
      "cell_type": "markdown",
      "metadata": {},
      "source": [
        "##### You could hardcode this if you wanted... but since it's a script tool \"arcpy.GetParameterAsText()\" is used so that the user can specify the desired WBS code"
      ]
    },
    {
      "cell_type": "code",
      "execution_count": null,
      "metadata": {},
      "outputs": [],
      "source": [
        "wbs_code = arcpy.GetParameterAsText (0)\n",
        "\n",
        "#~~~~~ Change to desired proj WBS code! ~~~~~#\n",
        "WBS = f\"TDS_WBS_CODE = '{wbs_code}'\""
      ]
    },
    {
      "attachments": {},
      "cell_type": "markdown",
      "metadata": {
        "jp-MarkdownHeadingCollapsed": true,
        "tags": []
      },
      "source": [
        "### d) change \"PortConnection\" table definition query"
      ]
    },
    {
      "cell_type": "code",
      "execution_count": null,
      "metadata": {},
      "outputs": [],
      "source": [
        "for m in aprx.listMaps():\n",
        "    for tbl in m.listTables():\n",
        "        if tbl.longName == \"ADP_GIS_EDIT\\PortConnection\":\n",
        "            tbl.updateDefinitionQueries([]) # Change the definition query of target table\n",
        "            tbl.definitionQuery = WBS\n",
        "        else:\n",
        "            tbl.updateDefinitionQueries([])\n",
        "\n",
        "arcpy.AddMessage(\"Port connection table DQ changed...\")"
      ]
    },
    {
      "attachments": {},
      "cell_type": "markdown",
      "metadata": {
        "jp-MarkdownHeadingCollapsed": true,
        "tags": []
      },
      "source": [
        "### e) change the definition query of layers in the \"ADP_GIS_EDIT\" list"
      ]
    },
    {
      "cell_type": "code",
      "execution_count": null,
      "metadata": {},
      "outputs": [],
      "source": [
        "for l in lyrList:\n",
        "    if l.isGroupLayer:\n",
        "        lyrs = l.listLayers()\n",
        "        for lyr in lyrs:\n",
        "            if lyr.longName in ADP_GIS_EDIT:\n",
        "                lyr.updateDefinitionQueries([]) # Change the definition query of target layers\n",
        "                lyr.definitionQuery = WBS\n",
        "            else:\n",
        "                lyr.updateDefinitionQueries([])\n",
        "\n",
        "arcpy.AddMessage(\"Feature class DQ's changed...\")"
      ]
    }
  ],
  "metadata": {
    "kernelspec": {
      "display_name": "Python (Pyodide)",
      "language": "python",
      "name": "python"
    },
    "language_info": {
      "codemirror_mode": {
        "name": "python",
        "version": 3
      },
      "file_extension": ".py",
      "mimetype": "text/x-python",
      "name": "python",
      "nbconvert_exporter": "python",
      "pygments_lexer": "ipython3",
      "version": "3.8"
    }
  },
  "nbformat": 4,
  "nbformat_minor": 4
}
